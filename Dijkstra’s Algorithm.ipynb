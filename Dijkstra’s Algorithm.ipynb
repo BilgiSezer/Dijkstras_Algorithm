{
 "cells": [
  {
   "cell_type": "markdown",
   "metadata": {},
   "source": [
    "# Dijkstra’s Algorithm\n",
    "\n",
    "### Created by Sezer UĞUZ"
   ]
  },
  {
   "cell_type": "markdown",
   "metadata": {},
   "source": [
    "Assume the following weighted graph is given. To find the shortest path from a node (given as input) to another node (again provided as input by user) we want to use Dijkstra’s Algorithm.\n",
    "\n",
    "1- I will use adjacency matrix to store the graph.\n",
    "\n",
    "2- I will check if the two nodes are connected (the destination node is reachable from the source node).\n",
    "\n",
    "3- I will find and print the Shortest Path.\n",
    "\n",
    "4- I will show the Visualization of the Shortest Path."
   ]
  },
  {
   "cell_type": "markdown",
   "metadata": {},
   "source": [
    "<img src=\"data/graph.jpg\">"
   ]
  },
  {
   "cell_type": "code",
   "execution_count": 1,
   "metadata": {},
   "outputs": [],
   "source": [
    "# -*- coding: utf-8 -*-\n",
    "\"\"\"\n",
    "Created on Sun Jan  6 12:55:27 2019\n",
    "\n",
    "@author: SEZER UĞUZ\n",
    "\"\"\"\n",
    "\n",
    "#I will import necessary library for this project.\n",
    "\n",
    "import numpy as np\n",
    "import networkx as nx\n",
    "import matplotlib.pyplot as plt\n",
    "from collections import defaultdict\n",
    "import scipy as sp"
   ]
  },
  {
   "cell_type": "markdown",
   "metadata": {},
   "source": [
    "I will use self.edges for a dict of all possible next nodes, \n",
    "\n",
    "e.g. {'V1': ['V2', 'V3'], ...}\n",
    "\n",
    "I will use self.weights for all the weights between two nodes, with the two nodes as a tuple as the key, \n",
    "\n",
    "e.g. {('V1', 'V2'): 9, ('V1', 'V3'): 12, ...}"
   ]
  },
  {
   "cell_type": "code",
   "execution_count": 2,
   "metadata": {},
   "outputs": [],
   "source": [
    "# I will create a class called name GraphAlg (GraphAlg: Graph Algorithm)\n",
    "class GraphAlg():\n",
    "    def __init__(self):\n",
    "        self.edges = defaultdict(list)\n",
    "        self.weights = {}\n",
    "\n",
    "# I will note that: I assume edges are bi-directional\n",
    "    def add_edge(self, from_node, to_node, weight):\n",
    "        self.edges[from_node].append(to_node)\n",
    "        self.edges[to_node].append(from_node)\n",
    "        self.weights[(from_node, to_node)] = weight\n",
    "        self.weights[(to_node, from_node)] = weight"
   ]
  },
  {
   "cell_type": "code",
   "execution_count": 3,
   "metadata": {},
   "outputs": [],
   "source": [
    "# I will create a graph using GraphAlg()\n",
    "graph = GraphAlg()\n",
    "\n",
    "# Here I will create variable callad name edges \n",
    "# and I will add adjacent edges and their values\n",
    "\n",
    "edges = [\n",
    "    ('V1', 'V2', 9),\n",
    "    ('V1', 'V3', 12),\n",
    "    ('V2', 'V3', 8),\n",
    "    ('V2', 'V5', 7),\n",
    "    ('V2', 'V4', 4),\n",
    "    ('V4', 'V5', 2),\n",
    "    ('V4', 'V7', 10),\n",
    "    ('V7', 'V8', 4),\n",
    "    ('V7', 'V9', 3),\n",
    "    ('V8', 'V9', 13),\n",
    "    ('V6', 'V8', 4),\n",
    "    ('V3', 'V6', 2),\n",
    "    ('V3', 'V5', 5),\n",
    "    ('V5', 'V7', 2),\n",
    "    ('V5', 'V6', 11),\n",
    "]\n",
    "\n",
    "for edge in edges:\n",
    "    graph.add_edge(*edge)\n",
    "\n",
    "# In addition, I want to draw the Dijsktra Shortest Path, that's why,\n",
    "# I will use Networkx for drawing the graph.\n",
    "# I will create a new varible called name G (Graph).\n",
    "G = nx.DiGraph()\n",
    "\n",
    "G.add_edges_from([('V1', 'V2')], weight = 9)\n",
    "G.add_edges_from([('V1', 'V3')], weight = 12)\n",
    "G.add_edges_from([('V2', 'V3')], weight = 8)\n",
    "G.add_edges_from([('V2', 'V5')], weight = 7)\n",
    "G.add_edges_from([('V2', 'V4'),('V6', 'V8'),('V7', 'V8')], weight = 4)\n",
    "G.add_edges_from([('V3', 'V5')], weight = 5)\n",
    "G.add_edges_from([('V3', 'V6'),('V4', 'V5'),('V5', 'V7')], weight = 2)\n",
    "G.add_edges_from([('V4', 'V5')], weight = 2)\n",
    "G.add_edges_from([('V4', 'V7')], weight = 10)\n",
    "G.add_edges_from([('V7', 'V9')], weight = 3)\n",
    "G.add_edges_from([('V8', 'V9')], weight = 13)\n",
    "G.add_edges_from([('V5', 'V6')], weight = 11)"
   ]
  },
  {
   "cell_type": "code",
   "execution_count": 4,
   "metadata": {},
   "outputs": [],
   "source": [
    "# I will create an Adjacency Matrix for the graph.\n",
    "graph_adj = nx.adjacency_matrix(G)"
   ]
  },
  {
   "cell_type": "code",
   "execution_count": 5,
   "metadata": {},
   "outputs": [],
   "source": [
    "# shortest paths is a dict of nodes\n",
    "# whose value is a tuple of (previous node, weight)\n",
    "def DijsktraShortestPath(graph, initial_node, end_node):\n",
    "    shortest_paths = {initial_node: (None, 0)}\n",
    "    current_node = initial_node\n",
    "    visited = set()\n",
    "    \n",
    "    while current_node != end_node:\n",
    "        visited.add(current_node)\n",
    "        destinations = graph.edges[current_node]\n",
    "        weight_to_current_node = shortest_paths[current_node][1]\n",
    "\n",
    "        for next_node in destinations:\n",
    "            weight = graph.weights[(current_node, next_node)] + weight_to_current_node\n",
    "            if next_node not in shortest_paths:\n",
    "                shortest_paths[next_node] = (current_node, weight)\n",
    "            else:\n",
    "                current_shortest_weight = shortest_paths[next_node][1]\n",
    "                if current_shortest_weight > weight:\n",
    "                    shortest_paths[next_node] = (current_node, weight)\n",
    "        \n",
    "        next_destinations = {node: shortest_paths[node] for node in shortest_paths \n",
    "                             if node not in visited}\n",
    "        if not next_destinations:\n",
    "            return 'Route Not Possible! Please try other nodes...'\n",
    "        \n",
    "        # next node is the destination with the lowest weight\n",
    "        current_node = min(next_destinations, key = lambda k: next_destinations[k][1])\n",
    "    \n",
    "    # Work back through destinations in shortest path\n",
    "    shortest_path = []\n",
    "    while current_node is not None:\n",
    "        shortest_path.append(current_node)\n",
    "        next_node = shortest_paths[current_node][0]\n",
    "        current_node = next_node\n",
    "        \n",
    "    # Reverse the shortest path\n",
    "    shortest_path = shortest_path[::-1]\n",
    "    return shortest_path"
   ]
  },
  {
   "cell_type": "code",
   "execution_count": 6,
   "metadata": {},
   "outputs": [
    {
     "name": "stdout",
     "output_type": "stream",
     "text": [
      "[[ 0  9 12  0  0  0  0  0  0]\n",
      " [ 0  0  8  7  4  0  0  0  0]\n",
      " [ 0  0  0  5  0  2  0  0  0]\n",
      " [ 0  0  0  0  0 11  0  2  0]\n",
      " [ 0  0  0  2  0  0  0 10  0]\n",
      " [ 0  0  0  0  0  0  4  0  0]\n",
      " [ 0  0  0  0  0  0  0  0 13]\n",
      " [ 0  0  0  0  0  0  4  0  3]\n",
      " [ 0  0  0  0  0  0  0  0  0]]\n"
     ]
    }
   ],
   "source": [
    "# I will show the Adjacency Matrix for the graph.\n",
    "print(graph_adj.todense())"
   ]
  },
  {
   "cell_type": "code",
   "execution_count": 7,
   "metadata": {},
   "outputs": [
    {
     "name": "stdout",
     "output_type": "stream",
     "text": [
      "Enter the initial node: V1\n",
      "Enter the final node: V9\n",
      "\n",
      "\n",
      "Dijsktra Shortest Path between V1 - V9 is: \n",
      " ['V1', 'V2', 'V4', 'V5', 'V7', 'V9']\n"
     ]
    }
   ],
   "source": [
    "# Here, I will create x and y variables for initial and final nodes.\n",
    "# x and y will provided as input by user.\n",
    "x = input(\"Enter the initial node: \")\n",
    "y = input(\"Enter the final node: \")\n",
    "print(\"\\n\")\n",
    "print(\"Dijsktra Shortest Path between\", x, \"-\", y, \"is: \\n\", DijsktraShortestPath(graph, x, y))"
   ]
  },
  {
   "cell_type": "code",
   "execution_count": 8,
   "metadata": {},
   "outputs": [
    {
     "data": {
      "image/png": "[encoded data removed]",
      "text/plain": [
       "<Figure size 432x288 with 1 Axes>"
      ]
     },
     "metadata": {},
     "output_type": "display_data"
    }
   ],
   "source": [
    "# I will take edges and weights from G for a new variable called name edge labels.\n",
    "edge_labels = dict([((u,v,),d['weight'])\n",
    "                 for u,v,d in G.edges(data=True)])\n",
    "\n",
    "# This is very important for drawing the Dijsktra Shortest Path.\n",
    "# I cloned the shortest path for drawing the graph, because when I try to path without cloned,\n",
    "# shortest will draw wrongly.\n",
    "# For example, our shortest path is ['V1', 'V2', 'V4', 'V5', 'V7', 'V9'], \n",
    "# shortest path represents red color, when I try to draw it\n",
    "# Red color will be between ('V1'-'V2'), ('V4', 'V5') ('V7', 'V9'), \n",
    "# wil not be between ['V1', 'V2', 'V4', 'V5', 'V7', 'V9'].\n",
    "# That's why, I thought about creating such a method.\n",
    "\n",
    "# I cloned the shortest path for drawing the graph.\n",
    "dijsktra_path = list(np.repeat(DijsktraShortestPath(graph, x, y), 2))\n",
    "\n",
    "# After copying the path,\n",
    "# I will delete the initial and final values. I do not need them for draw the path.\n",
    "\n",
    "# Remove initial value\n",
    "del dijsktra_path[0]\n",
    "\n",
    "# Remove final value\n",
    "dijsktra_path = dijsktra_path[:-1]\n",
    "\n",
    "# I will divide our cloned shortest path.\n",
    "# I will create each pair in a tuple.\n",
    "# I will collect the pairs in items variable, pair process will be by chunk.\n",
    "items, chunk = dijsktra_path, 2\n",
    "\n",
    "# I will create dijsktra_graph with zip.\n",
    "dijsktra_graph = zip(*[iter(items)]*chunk)\n",
    "\n",
    "# I will transfer the dijsktra_graph information using list to resultList variable.\n",
    "resultList = list(dijsktra_graph)\n",
    "\n",
    "# I will specify the shortest path with red color.\n",
    "red_edges = resultList\n",
    "\n",
    "# I will create colors for graph.\n",
    "# Our shortest path will be red, other will be black.\n",
    "edge_colors = ['black' if not edge in red_edges else 'red' for edge in G.edges()]\n",
    "\n",
    "# Positions of nodes will be circular using networkx library.\n",
    "pos=nx.circular_layout(G)\n",
    "\n",
    "# I will add positions of edges to graph.\n",
    "nx.draw_networkx_labels(G, pos)\n",
    "\n",
    "# I will add weight of nodes to graph.\n",
    "nx.draw_networkx_edge_labels(G,pos,edge_labels = edge_labels, arrows = False)\n",
    "\n",
    "# I will add node colors, graph lines.\n",
    "nx.draw(G,pos, node_color = 'green', node_size = 1000, edge_color = edge_colors, \n",
    "        edge_cmap = plt.cm.Reds, arrows=False)\n",
    "\n",
    "# Show the graph\n",
    "plt.show()"
   ]
  }
 ],
 "metadata": {
  "kernelspec": {
   "display_name": "Python 3",
   "language": "python",
   "name": "python3"
  },
  "language_info": {
   "codemirror_mode": {
    "name": "ipython",
    "version": 3
   },
   "file_extension": ".py",
   "mimetype": "text/x-python",
   "name": "python",
   "nbconvert_exporter": "python",
   "pygments_lexer": "ipython3",
   "version": "3.6.5"
  }
 },
 "nbformat": 4,
 "nbformat_minor": 2
}
